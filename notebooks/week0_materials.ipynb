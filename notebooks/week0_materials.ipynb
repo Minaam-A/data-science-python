{
 "cells": [
  {
   "cell_type": "markdown",
   "metadata": {},
   "source": [
    "Python3 is a general purpose programming language that is useful for writing scripts to work effectively and reproducibly with data.\n",
    "\n",
    "Jupyter is a nonprofit organization created to \"develop open-source software, open-standards, and services for interactive computing across dozens of programming languages\". Jupyter supports execution environments in several dozen programming languages. Jupyter has developed and supported the interactive computing products e.g. Jupyter Notebook, which we will be using during this course.\n",
    "\n",
    "This is a data science course in Python3 designed for participants with basic Python experience. Monday lectures will start with some information about Python3 syntax, the Jupyter notebook interface, and move through a basic recap of key concepts, how to write functions and handle data in Python3, using the pandas package to work with data frames, how to calculate summary information from a data frame, and approaches to do plotting.\n",
    "\n",
    "\n",
    "\n",
    "# Installations\n",
    "\n",
    "Before starting this course you will need to ensure that your computer is set up with the required software.\n",
    "\n",
    "In addition, you may find it useful (but not essential) to have a dual screen setup or two devices, e.g. laptop and tablet/phone.\n",
    "\n",
    "If you have any difficulty installing any of this software then please contact one of the trainers for help.\n",
    "\n",
    "\n",
    "\n",
    "## Python3 and Jupyter notebook\n",
    "\n",
    "**Python3** and **Jupyter** are separate downloads and installations.\n",
    "\n",
    "\n",
    "\n",
    "## Windows\n",
    "\n",
    "### If you already have Python3 and Jupyter installed\n",
    "\n",
    "\n",
    "### If you don't have Python3 and Jupyter installed\n",
    "\n",
    "\n",
    "\n",
    "## macOS\n",
    "\n",
    "### If you already have Python3 and Jupyter installed\n",
    "\n",
    "\n",
    "### If you don't have Python3 and Jupyter installed\n",
    "\n",
    "\n",
    "\n",
    "## Linux\n",
    "\n",
    "### If you already have Python3 and Jupyter installed\n",
    "\n",
    "\n",
    "### If you don't have Python3 and Jupyter installed\n",
    "\n",
    "\n",
    "\n",
    "## Credit\n",
    "\n",
    "These materials were adapted from the University of Cambridge Data Science in Python [course](https://github.com/pycam/python-data-science), [Data Carpentry](https://datacarpentry.org) and [Wikipedia](https://www.wikipedia.org/)"
   ]
  }
 ],
 "metadata": {
  "kernelspec": {
   "display_name": "Python 3",
   "language": "python",
   "name": "python3"
  },
  "language_info": {
   "codemirror_mode": {
    "name": "ipython",
    "version": 3
   },
   "file_extension": ".py",
   "mimetype": "text/x-python",
   "name": "python",
   "nbconvert_exporter": "python",
   "pygments_lexer": "ipython3",
   "version": "3.6.2"
  }
 },
 "nbformat": 4,
 "nbformat_minor": 4
}

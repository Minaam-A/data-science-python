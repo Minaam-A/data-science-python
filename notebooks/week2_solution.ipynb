{
 "cells": [
  {
   "cell_type": "markdown",
   "metadata": {},
   "source": [
    "# Week 2 exercise solutions"
   ]
  },
  {
   "cell_type": "markdown",
   "metadata": {},
   "source": [
    "## Exercise 1\n",
    "In the code block below, there is a list of 5 protein sequences, specified in the single amino acid code where one letter corresponds to one amino acid. Write a function that finds the most abundant amino acid in a given protein sequence, but prints a warning message if the protein sequence is shorter than 10 amino acids. Run your function on each of the proteins in the list."
   ]
  },
  {
   "cell_type": "code",
   "execution_count": 14,
   "metadata": {},
   "outputs": [
    {
     "name": "stdout",
     "output_type": "stream",
     "text": [
      "Processing protein MEAGPSGAAAGAYLPPLQQ\n",
      "{'M': 1, 'E': 1, 'A': 5, 'G': 3, 'P': 3, 'S': 1, 'Y': 1, 'L': 2, 'Q': 2}\n",
      "The most abundant amino acid is A\n",
      "Processing protein VFQAPRRPGIGTVGKPIKLLANYFEVDIPK\n",
      "{'V': 3, 'F': 2, 'Q': 1, 'A': 2, 'P': 4, 'R': 2, 'G': 3, 'I': 3, 'T': 1, 'K': 3, 'L': 2, 'N': 1, 'Y': 1, 'E': 1, 'D': 1}\n",
      "The most abundant amino acid is P\n",
      "Processing protein IDVYHY\n",
      "WARNING: protein is <10 aa long\n",
      "{'I': 1, 'D': 1, 'V': 1, 'Y': 2, 'H': 1}\n",
      "The most abundant amino acid is Y\n",
      "Processing protein EVDIKPDKCPRRVNREVV\n",
      "{'E': 2, 'V': 4, 'D': 2, 'I': 1, 'K': 2, 'P': 2, 'C': 1, 'R': 3, 'N': 1}\n",
      "The most abundant amino acid is V\n",
      "Processing protein EYMVQHFKPQIFGDRKPVYDGKKNIYTVTALPIGNER\n",
      "{'E': 2, 'Y': 3, 'M': 1, 'V': 3, 'Q': 2, 'H': 1, 'F': 2, 'K': 4, 'P': 3, 'I': 3, 'G': 3, 'D': 2, 'R': 2, 'N': 2, 'T': 2, 'A': 1, 'L': 1}\n",
      "The most abundant amino acid is K\n"
     ]
    }
   ],
   "source": [
    "proteins = [\n",
    "    \"MEAGPSGAAAGAYLPPLQQ\",\n",
    "    \"VFQAPRRPGIGTVGKPIKLLANYFEVDIPK\",\n",
    "    \"IDVYHY\",\n",
    "    \"EVDIKPDKCPRRVNREVV\",\n",
    "    \"EYMVQHFKPQIFGDRKPVYDGKKNIYTVTALPIGNER\"\n",
    "]\n",
    "\n",
    "def find_abundant_aa(protein):\n",
    "    # check the length of the protein and print a warning if <10 amino acids\n",
    "    if len(protein) < 10:\n",
    "        print(\"WARNING: protein is <10 aa long\")\n",
    "    # count the number of times each amino acid occurs\n",
    "    aa_abundances = {}\n",
    "    for i in protein:\n",
    "        if i in aa_abundances:\n",
    "            aa_abundances[i] += 1\n",
    "        else:\n",
    "            aa_abundances[i] = 1\n",
    "    # empty string for most abundant aa\n",
    "    abundant_aa = \"\"\n",
    "    # counter to keep track of abundance of the most-abundant aa\n",
    "    abundance = 0\n",
    "    for i in aa_abundances: \n",
    "        if aa_abundances[i] > abundance:\n",
    "            abundant_aa = i\n",
    "            abundance = aa_abundances[i]\n",
    "    # print out the abundances of all amino acids, to allow a manual check that our counts are correct\n",
    "    print(aa_abundances)\n",
    "    return(abundant_aa)\n",
    "\n",
    "# print out the most abundant amino acid in each protein\n",
    "for i in proteins:\n",
    "    print(\"Processing protein\", i)\n",
    "    print(\"The most abundant amino acid is\", find_abundant_aa(i))"
   ]
  },
  {
   "cell_type": "markdown",
   "metadata": {},
   "source": [
    "## Exercise 2\n",
    "The code below is intended to specify a function which looks up the capital city of a given country, and call this function on a list of two countries. However, it currently has a bug which stops it running. There are three possibilities for the nature of this bug:\n",
    "1. Its arguments are in the wrong order\n",
    "2. It uses a variable that is out of scope\n",
    "3. It is missing the return statement\n",
    "\n",
    "What is the bug?"
   ]
  },
  {
   "cell_type": "code",
   "execution_count": 16,
   "metadata": {},
   "outputs": [
    {
     "name": "stdout",
     "output_type": "stream",
     "text": [
      "Capital city located\n",
      "Washington DC\n",
      "Capital city located\n",
      "London\n",
      "Capital city located\n",
      "Stockholm\n",
      "CAPITAL CITY NOT FOUND\n"
     ]
    }
   ],
   "source": [
    "capital_cities = {\n",
    "    \"Sweden\": \"Stockholm\",\n",
    "    \"UK\": \"London\",\n",
    "    \"USA\": \"Washington DC\"\n",
    "}\n",
    "\n",
    "# this version of the function doesn't work because of the argument order\n",
    "# def find_capital_city(verbose=True, country):\n",
    "#     if country in capital_cities:\n",
    "#         capital_city = capital_cities[country]\n",
    "#         if verbose:\n",
    "#             print(\"Capital city located\")\n",
    "#     else:\n",
    "#         capital_city = \"CAPITAL CITY NOT FOUND\"\n",
    "#     return(capital_city)\n",
    "\n",
    "# this version of the function does work, as the argument with a default value is at the end\n",
    "def find_capital_city(country, verbose=True):\n",
    "    if country in capital_cities:\n",
    "        capital_city = capital_cities[country]\n",
    "        if verbose:\n",
    "            print(\"Capital city located\")\n",
    "    else:\n",
    "        capital_city = \"CAPITAL CITY NOT FOUND\"\n",
    "    return(capital_city)\n",
    "\n",
    "countries = [\"USA\", \"UK\", \"Sweden\", \"Belgium\"]\n",
    "for i in countries:\n",
    "     print(find_capital_city(i))"
   ]
  },
  {
   "cell_type": "markdown",
   "metadata": {},
   "source": [
    "## Exercise 3\n",
    "In the data folder, you will find a file \"imagine_lyrics.txt\", which contains the lyrics to the song Imagine by John Lennon. Your task is to find out which word is used most frequently in the lyrics. There are many ways to approach this, but however you solve it, remember to **break up your code into functions**!"
   ]
  },
  {
   "cell_type": "code",
   "execution_count": 4,
   "metadata": {},
   "outputs": [
    {
     "name": "stdout",
     "output_type": "stream",
     "text": [
      "The most frequent word is 'the'\n"
     ]
    }
   ],
   "source": [
    "# a function to take a text file of lyrics, and return a list of all words in the lyrics\n",
    "def get_words(lyric_file):\n",
    "    words = []\n",
    "    with open(lyric_file) as lyrics:\n",
    "        for i in lyrics:\n",
    "            # remove the new line and split the line into words\n",
    "            for j in i.strip(\"\\n\").split(\" \"):\n",
    "                # remove commas from any words and convert to lowercase\n",
    "                words.append(j.strip(\",\").lower())\n",
    "    return(words)\n",
    "\n",
    "# a function to take a list of words, and return a dictionary of counts per word\n",
    "def count_words(word_list):\n",
    "    word_counts = {}\n",
    "    for i in word_list:\n",
    "        if i in word_counts:\n",
    "            word_counts[i] += 1\n",
    "        else:\n",
    "            word_counts[i] = 1\n",
    "    return(word_counts)\n",
    "\n",
    "# a function to take a text file of lyrics, and return the most frequent word\n",
    "def find_most_frequent_word(lyric_file):\n",
    "    # read the words\n",
    "    words = get_words(lyric_file)\n",
    "    # count the words\n",
    "    counts = count_words(words)\n",
    "    # find most frequent word\n",
    "    most_frequent_word = \"\"\n",
    "    highest_count = 0\n",
    "    for i in counts:\n",
    "        if counts[i] > highest_count:\n",
    "            most_frequent_word = i\n",
    "            highest_count = counts[i]\n",
    "    return(most_frequent_word)\n",
    "\n",
    "print(\"The most frequent word is '{}'\".format(find_most_frequent_word(\"../data/imagine_lyrics.txt\")))"
   ]
  },
  {
   "cell_type": "markdown",
   "metadata": {},
   "source": [
    "## Exercise 4\n",
    "Some words aren't very interesting (\"the\", \"a\", \"and\" etc), so we might want to exclude these from consideration when finding the most frequent word in a set of lyrics. Extend your code from Exercise 3 to include an option to exclude a custom list of words, and test how the results change when excluding \"the\", \"a\" & \"and\"."
   ]
  },
  {
   "cell_type": "code",
   "execution_count": 5,
   "metadata": {},
   "outputs": [
    {
     "name": "stdout",
     "output_type": "stream",
     "text": [
      "Without word filtering, the most frequent word is 'the'\n",
      "After filtering out 'the', 'a' & 'and', the most frequent word is 'imagine'\n"
     ]
    }
   ],
   "source": [
    "# a function to take a text file of lyrics, and return a list of all words in the lyrics\n",
    "def get_words(lyric_file):\n",
    "    words = []\n",
    "    with open(lyric_file) as lyrics:\n",
    "        for i in lyrics:\n",
    "            # remove the new line and split the line into words\n",
    "            for j in i.strip(\"\\n\").split(\" \"):\n",
    "                # remove commas from any words and convert to lowercase\n",
    "                words.append(j.strip(\",\").lower())\n",
    "    return(words)\n",
    "\n",
    "# a function to take a list of words, and return a dictionary of counts per word\n",
    "def count_words(word_list):\n",
    "    word_counts = {}\n",
    "    for i in word_list:\n",
    "        if i in word_counts:\n",
    "            word_counts[i] += 1\n",
    "        else:\n",
    "            word_counts[i] = 1\n",
    "    return(word_counts)\n",
    "\n",
    "# a function to remove words from a list of words\n",
    "def remove_words(word_list, words_to_remove):\n",
    "    cleaned_words = []\n",
    "    for i in word_list:\n",
    "        if i not in words_to_remove:\n",
    "            cleaned_words.append(i)\n",
    "    return(cleaned_words)\n",
    "\n",
    "# a function to take a text file of lyrics, and return the most frequent word\n",
    "def find_most_frequent_word(lyric_file, words_to_remove = []):\n",
    "    # read the words\n",
    "    words = get_words(lyric_file)\n",
    "    # exclude words if specified\n",
    "    if len(words_to_remove)>0:\n",
    "        words = remove_words(words, words_to_remove)\n",
    "    # count the words\n",
    "    counts = count_words(words)\n",
    "    # find most frequent word\n",
    "    most_frequent_word = \"\"\n",
    "    highest_count = 0\n",
    "    for i in counts:\n",
    "        if counts[i] > highest_count:\n",
    "            most_frequent_word = i\n",
    "            highest_count = counts[i]\n",
    "    return(most_frequent_word)\n",
    "\n",
    "print(\"Without word filtering, the most frequent word is '{}'\".format(find_most_frequent_word(\"../data/imagine_lyrics.txt\")))\n",
    "print(\"After filtering out 'the', 'a' & 'and', the most frequent word is '{}'\".format(find_most_frequent_word(\"../data/imagine_lyrics.txt\", [\"the\", \"a\", \"and\"])))"
   ]
  },
  {
   "cell_type": "markdown",
   "metadata": {},
   "source": [
    "## Lambda functions\n",
    "Exercise 1 can be solved using a lambda function to extract the name of the most abundant amino acid. Lambda functions allow you to specify a very short function on the fly, and are sometimes used as arguments to other functions. For example, we can use a lambda function as the argument to the **sorted()** function, to specify that we want to sort the items in the dictionary of amino acid counts by their abundance:"
   ]
  },
  {
   "cell_type": "code",
   "execution_count": 20,
   "metadata": {},
   "outputs": [
    {
     "name": "stdout",
     "output_type": "stream",
     "text": [
      "Processing protein MEAGPSGAAAGAYLPPLQQ\n",
      "The most abundant amino acid is A\n",
      "Processing protein VFQAPRRPGIGTVGKPIKLLANYFEVDIPK\n",
      "The most abundant amino acid is P\n",
      "Processing protein IDVYHY\n",
      "WARNING: protein is <10 aa long\n",
      "The most abundant amino acid is Y\n",
      "Processing protein EVDIKPDKCPRRVNREVV\n",
      "The most abundant amino acid is V\n",
      "Processing protein EYMVQHFKPQIFGDRKPVYDGKKNIYTVTALPIGNER\n",
      "The most abundant amino acid is K\n"
     ]
    }
   ],
   "source": [
    "proteins = [\n",
    "    \"MEAGPSGAAAGAYLPPLQQ\",\n",
    "    \"VFQAPRRPGIGTVGKPIKLLANYFEVDIPK\",\n",
    "    \"IDVYHY\",\n",
    "    \"EVDIKPDKCPRRVNREVV\",\n",
    "    \"EYMVQHFKPQIFGDRKPVYDGKKNIYTVTALPIGNER\"\n",
    "]\n",
    "\n",
    "def find_abundant_aa(protein):\n",
    "    # check the length of the protein and print a warning if <10 amino acids\n",
    "    if len(protein) < 10:\n",
    "        print(\"WARNING: protein is <10 aa long\")\n",
    "    # count the number of times each amino acid occurs\n",
    "    aa_abundances = {}\n",
    "    for i in protein:\n",
    "        if i in aa_abundances:\n",
    "            aa_abundances[i] += 1\n",
    "        else:\n",
    "            aa_abundances[i] = 1\n",
    "    # use lambda functions to sort the dictionary and extract the key for the highest value\n",
    "    # the .items() call pulls out the key-value pairs as tuples\n",
    "    #print(sorted(aa_abundances.items(), key=lambda item: item[1]))\n",
    "    # the key argument specification is how to sort the items\n",
    "    # the lambda function specifies that we want to sort the key-value pairs based on their value (index 1 of each tuple)\n",
    "    # -1 indexing selects the last key-value pair\n",
    "    # 0 indexing selects the first item in the tuple i.e. the aa name\n",
    "    abundant_aa = sorted(aa_abundances.items(), key=lambda item: item[1])[-1][0]\n",
    "    return(abundant_aa)\n",
    "\n",
    "# print out the most abundant amino acid in each protein\n",
    "for i in proteins:\n",
    "    print(\"Processing protein\", i)\n",
    "    print(\"The most abundant amino acid is\", find_abundant_aa(i))"
   ]
  },
  {
   "cell_type": "markdown",
   "metadata": {},
   "source": [
    "See https://realpython.com/python-lambda/ for a full tutorial"
   ]
  }
 ],
 "metadata": {
  "kernelspec": {
   "display_name": "Python 3",
   "language": "python",
   "name": "python3"
  },
  "language_info": {
   "codemirror_mode": {
    "name": "ipython",
    "version": 3
   },
   "file_extension": ".py",
   "mimetype": "text/x-python",
   "name": "python",
   "nbconvert_exporter": "python",
   "pygments_lexer": "ipython3",
   "version": "3.7.4"
  }
 },
 "nbformat": 4,
 "nbformat_minor": 2
}

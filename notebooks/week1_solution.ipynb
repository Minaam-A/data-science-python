{
 "cells": [
  {
   "cell_type": "markdown",
   "metadata": {},
   "source": [
    "# Week 1 - A solution to the assignment\n"
   ]
  },
  {
   "cell_type": "markdown",
   "metadata": {},
   "source": [
    "### Assignment\n",
    "\n",
    "1. Create a new Jupyter Notebook with one Markdown cell and one Code cell and name it as you wish e.g. `week1_exercise1`\n",
    "    - Print out the names of the amino acids that would be produced by the DNA sequence \"GTT GCA CCA CAA CCG\" - see the DNA codon table [here](https://en.wikipedia.org/wiki/DNA_codon_table). Note: split the string into the individual codons and then create and use a dictionary to map between codon sequences and the amino acids they encode\n",
    "    - Print each codon and its corresponding amino acid\n",
    "    - Why couldn't we build a dictionary where the keys are names of amino acids and the values are the DNA codons?\n",
    "    - Download the python file associated with the notebook you have created\n",
    "\n",
    "\n",
    "2. You are going to look at the METABRIC data file `metabric_clinical_and_expression_data.csv` on breast cancer referred above\n",
    "    - Write a script that reads the file and counts how many unique patients we have data available\n",
    "    - How many patients were older than 75 when diagnosed with breast cancer? \n",
    "    - What were the earliest and oldest age of diagnosis?\n",
    "    - Count how many patients were treated with Chemotherapy and Radiotherapy\n",
    "    - Count how many patients had less than three mutations in the genes investigated\n",
    "    \n",
    "\n",
    "3. `Bonus exercise` \n",
    "    - Starting with an empty dictionary, count the abundance of different residue types present in the 1-letter lysozyme protein [sequence](http://www.uniprot.org/uniprot/B2R4C5.fasta) and print the results to the screen in alphabetical key order.\n",
    "    - Write the results to an output file"
   ]
  }
 ],
 "metadata": {
  "kernelspec": {
   "display_name": "Python 3",
   "language": "python",
   "name": "python3"
  },
  "language_info": {
   "codemirror_mode": {
    "name": "ipython",
    "version": 3
   },
   "file_extension": ".py",
   "mimetype": "text/x-python",
   "name": "python",
   "nbconvert_exporter": "python",
   "pygments_lexer": "ipython3",
   "version": "3.6.2"
  }
 },
 "nbformat": 4,
 "nbformat_minor": 4
}

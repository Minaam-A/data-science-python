{
 "cells": [
  {
   "cell_type": "markdown",
   "metadata": {},
   "source": [
    "# Week 1 - A solution to the assignment\n"
   ]
  },
  {
   "cell_type": "markdown",
   "metadata": {},
   "source": [
    "1. Create a new Jupyter Notebook with one Markdown cell and one Code cell and name it as you wish e.g. `week1_exercise1`\n",
    "    - Print out the names of the amino acids that would be produced by the DNA sequence \"GTT GCA CCA CAA CCG\" - see the DNA codon table [here](https://en.wikipedia.org/wiki/DNA_codon_table). Note: split the string into the individual codons and then create and use a dictionary to map between codon sequences and the amino acids they encode\n",
    "    - Print each codon and its corresponding amino acid\n",
    "    - Why couldn't we build a dictionary where the keys are names of amino acids and the values are the DNA codons?\n",
    "    - Download the python file associated with the notebook you have created"
   ]
  },
  {
   "cell_type": "code",
   "execution_count": null,
   "metadata": {},
   "outputs": [],
   "source": [
    "# DNA sequence given\n",
    "codon_string = \"GTT GCA CCA CAA CCG\"\n",
    "\n",
    "# Split this string into the individual codons\n",
    "codon_list = codon_string.split()\n",
    "print(codon_list)\n",
    "\n",
    "# Dictionary to map between codon sequences and amino acids they encode\n",
    "codon_to_aminoacid = {\n",
    "    \"GTT\": \"Val\",\n",
    "    \"GCA\": \"Ala\",\n",
    "    \"CCA\": \"Pro\",\n",
    "    \"CAA\": \"Gln\",\n",
    "    \"CCG\": \"Pro\"\n",
    "}\n",
    "\n",
    "print(codon_to_aminoacid)"
   ]
  },
  {
   "cell_type": "code",
   "execution_count": null,
   "metadata": {},
   "outputs": [],
   "source": [
    "# Print each codon and its corresponding amino acid\n",
    "for codon in codon_list:\n",
    "    print(codon, \"codes for\", codon_to_aminoacid[codon])"
   ]
  },
  {
   "cell_type": "code",
   "execution_count": null,
   "metadata": {},
   "outputs": [],
   "source": [
    "# Why couldn't we build a dictionary where the keys are names of amino acids and the values are the DNA codons?\n",
    "aminoacid_to_codon = {\n",
    "    \"Phe\": \"TTT\",\n",
    "    \"Phe\": \"TTC\",\n",
    "    \"Leu\": \"TTA\",\n",
    "    \"Leu\": \"TTG\"\n",
    "}\n",
    "\n",
    "print(aminoacid_to_codon)"
   ]
  },
  {
   "cell_type": "code",
   "execution_count": null,
   "metadata": {},
   "outputs": [],
   "source": [
    "# Why couldn't we build a dictionary where the keys are names of amino acids and the values are the DNA codons?\n",
    "aminoacid_to_codon_2 = {\n",
    "    \"Phe\": [\"TTT\",\"TTC\"],\n",
    "    \"Leu\": [\"TTA\", \"TTG\"]\n",
    "}\n",
    "\n",
    "print(aminoacid_to_codon_2)"
   ]
  },
  {
   "cell_type": "markdown",
   "metadata": {},
   "source": [
    "2. You are going to look at the METABRIC data file `metabric_clinical_and_expression_data.csv` on breast cancer referred above\n",
    "    - Write a script that reads the file and counts how many unique patients we have data available\n",
    "    - How many patients were older than 75 when diagnosed with breast cancer? \n",
    "    - What were the earliest and oldest ages of diagnosis?\n",
    "    - Count how many patients were treated with Chemotherapy and Radiotherapy\n",
    "    - Count how many patients had less than three mutations in the genes investigated"
   ]
  },
  {
   "cell_type": "code",
   "execution_count": null,
   "metadata": {},
   "outputs": [],
   "source": [
    "# Write a script that reads the file and counts how many unique patients we have data available\n",
    "unique_patients = set()\n",
    "\n",
    "with open(\"../data/metabric_clinical_and_expression_data.csv\") as f:\n",
    "    next(f)\n",
    "    for line in f:\n",
    "        fields = line.split(\",\")\n",
    "        patient_id = fields[0]\n",
    "        unique_patients.add(patient_id)\n",
    "            \n",
    "print(\"The number of unique patients is\", len(unique_patients))"
   ]
  },
  {
   "cell_type": "code",
   "execution_count": null,
   "metadata": {},
   "outputs": [],
   "source": [
    "# How many patients were older than 75 when diagnosed with breast cancer?\n",
    "unique_patients_older75 = set()\n",
    "\n",
    "with open(\"../data/metabric_clinical_and_expression_data.csv\") as f:\n",
    "    next(f)\n",
    "    for line in f:\n",
    "        fields = line.split(\",\")\n",
    "        patient_id = fields[0]\n",
    "        age_diagnosis = float(fields[2])\n",
    "        if age_diagnosis > 75:\n",
    "            unique_patients_older75.add(patient_id)\n",
    "\n",
    "print(\"The number of unique patients older than 75 diagnosed is\", len(unique_patients_older75))"
   ]
  },
  {
   "cell_type": "code",
   "execution_count": null,
   "metadata": {},
   "outputs": [],
   "source": [
    "# What were the earliest and oldest ages of diagnosis?\n",
    "age_diagnosis_set = set()\n",
    "\n",
    "with open(\"../data/metabric_clinical_and_expression_data.csv\") as f:\n",
    "    next(f)\n",
    "    for line in f:\n",
    "        fields = line.split(\",\")\n",
    "        age_diagnosis = float(fields[2])\n",
    "        age_diagnosis_set.add(age_diagnosis)\n",
    "\n",
    "print(\"The earliest age of diagnosis is\", min(age_diagnosis_set))\n",
    "print(\"The latest age of diagnosis is\", max(age_diagnosis_set))"
   ]
  },
  {
   "cell_type": "code",
   "execution_count": null,
   "metadata": {},
   "outputs": [],
   "source": [
    "# Count how many patients were treated with Chemotherapy and Radiotherapy\n",
    "# Count how many patients had less than three mutations in the genes investigated\n",
    "\n",
    "unique_patients_chem_radio = set()\n",
    "unique_patients_less3mut = set()\n",
    "\n",
    "with open(\"../data/metabric_clinical_and_expression_data.csv\") as f:\n",
    "    next(f)\n",
    "    for line in f:\n",
    "        fields = line.split(\",\")\n",
    "        patient_id = fields[0]\n",
    "        chem = fields[6]\n",
    "        radio = fields[7]\n",
    "        if chem == \"YES\" and radio == \"YES\":\n",
    "            unique_patients_chem_radio.add(patient_id)\n",
    "        mutation_count = fields[23]\n",
    "        if mutation_count != \"NA\":\n",
    "            if int(mutation_count) < 3:\n",
    "                unique_patients_less3mut.add(patient_id)\n",
    "            \n",
    "print(\"The number of unique patients treated with Chemotherapy and Radiotherapy is\", len(unique_patients_chem_radio))\n",
    "print(\"The number of unique patients with less than 3 mutations in the genes investigated is\", len(unique_patients_less3mut))"
   ]
  },
  {
   "cell_type": "markdown",
   "metadata": {},
   "source": [
    "*Extra bonus*: combine all of the code chunks of exercise 2 into a single chunk"
   ]
  },
  {
   "cell_type": "markdown",
   "metadata": {},
   "source": [
    "3. `Bonus exercise` \n",
    "    - Starting with an empty dictionary, count the abundance of different residue types present in the 1-letter lysozyme protein [sequence](http://www.uniprot.org/uniprot/B2R4C5.fasta) and print the results to the screen in alphabetical key order.\n",
    "    - Write the results to an output file"
   ]
  },
  {
   "cell_type": "code",
   "execution_count": null,
   "metadata": {},
   "outputs": [],
   "source": [
    "# I first downloaded the fasta file from the url manually and saved it in my directory ../data/\n",
    "\n",
    "residues = {}\n",
    "\n",
    "with open(\"../data/B2R4C5.fasta\") as f:\n",
    "    next(f)\n",
    "    for line in f:\n",
    "        aas = list(line.strip())\n",
    "        for aa in aas:\n",
    "            if aa in residues:\n",
    "                residues[aa] += 1\n",
    "            else:\n",
    "                residues[aa] = 1\n",
    "                \n",
    "for aa in sorted(residues):\n",
    "    print(aa, \"is present\", residues[aa], \"times\")"
   ]
  },
  {
   "cell_type": "code",
   "execution_count": null,
   "metadata": {},
   "outputs": [],
   "source": [
    "# Write the results to an output file\n",
    "\n",
    "with open('../data/B2R4C5.txt', 'w') as f:\n",
    "    for aa in sorted(residues):\n",
    "        f.write(\"{amino:s}\\t{freq:d}\\n\".format(amino=aa, freq=residues[aa]))\n",
    "        #f.write(\"%s\\t%i\\n\" % (aa, residues[aa]))"
   ]
  }
 ],
 "metadata": {
  "kernelspec": {
   "display_name": "Python 3",
   "language": "python",
   "name": "python3"
  },
  "language_info": {
   "codemirror_mode": {
    "name": "ipython",
    "version": 3
   },
   "file_extension": ".py",
   "mimetype": "text/x-python",
   "name": "python",
   "nbconvert_exporter": "python",
   "pygments_lexer": "ipython3",
   "version": "3.6.2"
  }
 },
 "nbformat": 4,
 "nbformat_minor": 4
}

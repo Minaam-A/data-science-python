{
 "cells": [
  {
   "cell_type": "markdown",
   "metadata": {},
   "source": [
    "# Week 3 - Data handling: pandas and numpy\n",
    "\n",
    "The Python modules `pandas` and `numpy` are very useful tools to handle datasets and apply basic operations on them. \n",
    "\n",
    "Some of the things we have learnt in weeks 1 and 2 using native Python (e.g. accessing, working with and writing data files) can often be easily achieved using `pandas` instead. This module offers data structures and operations for manipulating different types of datasets - see [documentation](https://pandas.pydata.org/)\n",
    "\n",
    "\n",
    "### Installing the modules\n",
    "\n",
    "The modules `pandas` and `numpy` do not come as part of the default Anaconda installation. In order to install them in your system, open your Windows command line and run the following command: `conda install pandas`. The module `numpy` should install automatically with the `pandas` installation.\n",
    "\n",
    "\n",
    "### Loading modules\n",
    "\n",
    "Once they are installed, we can import them using the aliases `pd` and `np` as follows:"
   ]
  },
  {
   "cell_type": "code",
   "execution_count": null,
   "metadata": {},
   "outputs": [],
   "source": [
    "import pandas as pd\n",
    "import numpy as np"
   ]
  },
  {
   "cell_type": "markdown",
   "metadata": {},
   "source": [
    "### Reading datasets with `pandas`\n",
    "\n",
    "We are going to use the METABRIC dataset `metabric_clinical_and_expression_data.csv` containing information about breast cancer patients as we did in weeks 1 and 2.\n",
    "\n",
    "Pandas allows importing data from various file formats such as csv, xls, json, sql ... To read a csv file, use the function `read_csv()`:"
   ]
  },
  {
   "cell_type": "code",
   "execution_count": null,
   "metadata": {},
   "outputs": [],
   "source": [
    "metabric = pd.read_csv(\"../data/metabric_clinical_and_expression_data.csv\")\n",
    "metabric"
   ]
  },
  {
   "cell_type": "markdown",
   "metadata": {},
   "source": [
    "If you forget to include `../data/` above, or if you include it but your copy of the file is saved somewhere else, you will get an error that ends with a line like this: `FileNotFoundError: File b'metabric_clinical_and_expression_data.csv' does not exist`\n",
    "\n",
    "Generally, columns in a `DataFrame` are known as the observed variables, and the rows are the observations.\n",
    "\n",
    "The pandas `DataFrame` object borrows many features from R's `data.frame`. Both are 2-dimensional tables whose columns can contain different data types (e.g. boolean, integer, float, categorical/factor). Both the rows and columns are indexed, and can be referred to by number or name.\n",
    "\n",
    "Looking at the column on the far left, you can see that the DataFrame `metabric` is indexed using the 0-based notation common in Python.\n",
    "\n",
    "Note that the `.read_csv()` function is not limited to reading csv files. For example, you can also read Tab Separated Value (TSV) files by adding the argument `sep='\\t'`."
   ]
  }
 ],
 "metadata": {
  "kernelspec": {
   "display_name": "Python 3",
   "language": "python",
   "name": "python3"
  },
  "language_info": {
   "codemirror_mode": {
    "name": "ipython",
    "version": 3
   },
   "file_extension": ".py",
   "mimetype": "text/x-python",
   "name": "python",
   "nbconvert_exporter": "python",
   "pygments_lexer": "ipython3",
   "version": "3.6.2"
  }
 },
 "nbformat": 4,
 "nbformat_minor": 4
}
